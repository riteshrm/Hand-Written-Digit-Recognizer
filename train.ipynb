{
 "cells": [
  {
   "cell_type": "code",
   "execution_count": null,
   "id": "76a10399",
   "metadata": {},
   "outputs": [],
   "source": [
    "import tensorflow as tf\n",
    "from tensorflow import keras\n",
    "import pandas as pd\n",
    "import numpy as np\n",
    "import gradio as gr\n",
    "import pickle"
   ]
  },
  {
   "cell_type": "code",
   "execution_count": null,
   "id": "cca13a69",
   "metadata": {},
   "outputs": [],
   "source": [
    "objects = tf.keras.datasets.mnist"
   ]
  },
  {
   "cell_type": "code",
   "execution_count": null,
   "id": "03d64139",
   "metadata": {},
   "outputs": [],
   "source": [
    "data = objects.load_data()"
   ]
  },
  {
   "cell_type": "code",
   "execution_count": null,
   "id": "3f0e6a14",
   "metadata": {},
   "outputs": [],
   "source": [
    "(train_x,train_y),(test_x,test_y) = data"
   ]
  },
  {
   "cell_type": "code",
   "execution_count": null,
   "id": "393db2fd",
   "metadata": {},
   "outputs": [],
   "source": [
    "train_x = train_x.reshape(train_x.shape[0],28,28,1)\n",
    "test_x = test_x.reshape(test_x.shape[0],28,28,1)\n",
    "# one hot encode target values\n",
    "train_y = tf.keras.utils.to_categorical(train_y)\n",
    "test_y = tf.keras.utils.to_categorical(test_y)"
   ]
  },
  {
   "cell_type": "code",
   "execution_count": null,
   "id": "a84fb3c1",
   "metadata": {},
   "outputs": [],
   "source": [
    "train_x = train_x/255\n",
    "test_x = test_x/255"
   ]
  },
  {
   "cell_type": "code",
   "execution_count": null,
   "id": "abe8ffe5",
   "metadata": {},
   "outputs": [],
   "source": [
    "def get_model():\n",
    "    model = tf.keras.Sequential()\n",
    "    model.add(tf.keras.layers.Conv2D(2,(3,3), padding=\"same\", activation=\"relu\"))\n",
    "    model.add(tf.keras.layers.Conv2D(4,(3,3), padding=\"same\", activation=\"relu\"))\n",
    "    model.add(tf.keras.layers.Conv2D(16,(3,3), padding=\"same\", activation=\"relu\"))\n",
    "    model.add(tf.keras.layers.Conv2D(4,(3,3), padding=\"same\", activation=\"relu\"))\n",
    "    model.add(tf.keras.layers.Conv2D(2,(3,3), padding=\"same\", activation=\"relu\"))\n",
    "    model.add(tf.keras.layers.Flatten())\n",
    "    model.add(tf.keras.layers.Dense(128, activation=\"relu\"))\n",
    "    model.add(tf.keras.layers.Dense(10,activation='softmax'))\n",
    "    model.compile(tf.keras.optimizers.Adam(0.001), loss = 'mse')\n",
    "    return model;\n",
    "    "
   ]
  },
  {
   "cell_type": "code",
   "execution_count": null,
   "id": "97f7d812",
   "metadata": {},
   "outputs": [],
   "source": [
    "model = get_model()"
   ]
  },
  {
   "cell_type": "code",
   "execution_count": null,
   "id": "623826ed",
   "metadata": {},
   "outputs": [],
   "source": [
    "model.fit(train_x,train_y,epochs=5,validation_data=(test_x,test_y))"
   ]
  },
  {
   "cell_type": "code",
   "execution_count": null,
   "id": "800205c3",
   "metadata": {},
   "outputs": [],
   "source": [
    "model.summary()"
   ]
  },
  {
   "cell_type": "code",
   "execution_count": null,
   "id": "a85d7200",
   "metadata": {},
   "outputs": [],
   "source": [
    "model.save('model.h5')"
   ]
  },
  {
   "cell_type": "code",
   "execution_count": null,
   "id": "c615ea22",
   "metadata": {},
   "outputs": [],
   "source": [
    "model.evaluate(x=test_x, y=test_y)\n"
   ]
  }
 ],
 "metadata": {
  "kernelspec": {
   "display_name": "Python 3 (ipykernel)",
   "language": "python",
   "name": "python3"
  },
  "language_info": {
   "codemirror_mode": {
    "name": "ipython",
    "version": 3
   },
   "file_extension": ".py",
   "mimetype": "text/x-python",
   "name": "python",
   "nbconvert_exporter": "python",
   "pygments_lexer": "ipython3",
   "version": "3.8.13"
  }
 },
 "nbformat": 4,
 "nbformat_minor": 5
}
